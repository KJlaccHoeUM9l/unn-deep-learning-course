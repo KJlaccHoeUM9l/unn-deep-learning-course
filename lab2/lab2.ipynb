{
 "cells": [
  {
   "cell_type": "markdown",
   "metadata": {},
   "source": [
    "# CIFAR-10 classification with a neural network\n",
    "# Author: Alexey Gladyshev"
   ]
  },
  {
   "cell_type": "markdown",
   "metadata": {},
   "source": [
    "## 1. Load CIFAR-10 dataset and prepare data"
   ]
  },
  {
   "cell_type": "code",
   "execution_count": 1,
   "metadata": {},
   "outputs": [],
   "source": [
    "import os\n",
    "import numpy as np\n",
    "import matplotlib.pyplot as plt\n",
    "\n",
    "from tqdm import trange"
   ]
  },
  {
   "cell_type": "code",
   "execution_count": 2,
   "metadata": {},
   "outputs": [],
   "source": [
    "np.random.seed(47)\n",
    "dataset_root_path = '/home/agladyshev/Documents/UNN/DL/Datasets/cifar-10-batches-py'\n",
    "weights_path = os.path.join('./weights', 'Lenet5XXX_weights_51_acc.tar')"
   ]
  },
  {
   "cell_type": "code",
   "execution_count": 3,
   "metadata": {},
   "outputs": [],
   "source": [
    "from DataManager import DataManager\n",
    "\n",
    "data_manager = DataManager(dataset_root_path, like_images=True)\n",
    "X_train, X_val, y_train, y_val = data_manager.get_train_data()\n",
    "X_test, y_test = data_manager.get_test_data()"
   ]
  },
  {
   "cell_type": "markdown",
   "metadata": {},
   "source": [
    "## 2. NN implementation, layers, activations, loss functions and optimizer"
   ]
  },
  {
   "cell_type": "code",
   "execution_count": 4,
   "metadata": {},
   "outputs": [],
   "source": [
    "from models.Lenet5XXX import Lenet5XXX\n",
    "from loss_functions import SoftmaxCCE"
   ]
  },
  {
   "cell_type": "markdown",
   "metadata": {},
   "source": [
    "## 3. Check correctness"
   ]
  },
  {
   "cell_type": "code",
   "execution_count": 5,
   "metadata": {},
   "outputs": [],
   "source": [
    "network = Lenet5XXX(use_dropout=False, learning_rate=0.1)"
   ]
  },
  {
   "cell_type": "code",
   "execution_count": 6,
   "metadata": {},
   "outputs": [
    {
     "name": "stdout",
     "output_type": "stream",
     "text": [
      "Epoch 0\n",
      "Loss:  5.229369087006906\n",
      "Train accuracy:  0.5\n",
      "Epoch 1\n",
      "Loss:  1.4772289417362374\n",
      "Train accuracy:  0.7\n",
      "Epoch 2\n",
      "Loss:  0.738630661003495\n",
      "Train accuracy:  1.0\n",
      "Epoch 3\n",
      "Loss:  0.0768428415178187\n",
      "Train accuracy:  1.0\n",
      "Epoch 4\n",
      "Loss:  0.022717956225387324\n",
      "Train accuracy:  1.0\n"
     ]
    },
    {
     "data": {
      "image/png": "[encoded data removed]",
      "text/plain": [
       "<Figure size 432x288 with 1 Axes>"
      ]
     },
     "metadata": {
      "needs_background": "light"
     },
     "output_type": "display_data"
    }
   ],
   "source": [
    "test_x_batch, test_y_batch = data_manager.get_test_batch(batch_size=10)\n",
    "\n",
    "train_log = []\n",
    "for epoch in range(5):\n",
    "    loss = network.train_on_batch(test_x_batch, test_y_batch, SoftmaxCCE)\n",
    "    train_log.append(np.mean(network.predict(test_x_batch, batch_step=32) == test_y_batch))\n",
    "    print(\"Epoch\", epoch)\n",
    "    print(\"Loss: \", loss)\n",
    "    print(\"Train accuracy: \", train_log[-1])\n",
    "\n",
    "plt.plot(train_log, label='train accuracy')\n",
    "plt.legend(loc='best')\n",
    "plt.grid()\n",
    "plt.show()"
   ]
  },
  {
   "cell_type": "markdown",
   "metadata": {},
   "source": [
    "## 4. Experiments"
   ]
  },
  {
   "cell_type": "code",
   "execution_count": 7,
   "metadata": {},
   "outputs": [],
   "source": [
    "from sklearn.metrics import accuracy_score, confusion_matrix"
   ]
  },
  {
   "cell_type": "code",
   "execution_count": 8,
   "metadata": {},
   "outputs": [],
   "source": [
    "network.load_state_dict(weights_path)"
   ]
  },
  {
   "cell_type": "code",
   "execution_count": 9,
   "metadata": {},
   "outputs": [],
   "source": [
    "pred = network.predict(X_test, batch_step=32)"
   ]
  },
  {
   "cell_type": "code",
   "execution_count": 10,
   "metadata": {},
   "outputs": [
    {
     "name": "stdout",
     "output_type": "stream",
     "text": [
      "Test accuracy:  0.4614\n"
     ]
    }
   ],
   "source": [
    "print('Test accuracy: ', accuracy_score(pred, y_test))"
   ]
  },
  {
   "cell_type": "code",
   "execution_count": 11,
   "metadata": {},
   "outputs": [
    {
     "name": "stdout",
     "output_type": "stream",
     "text": [
      "[[371  23  44  31  23  10  12  14  67  25]\n",
      " [ 47 556  28  23  21  15  34  16  73 148]\n",
      " [ 89  13 249  54  81  71  44  41  15  22]\n",
      " [  9  11  49 156  35  82  42  31  18  20]\n",
      " [ 30   7 175  74 355  87  78  91  18   4]\n",
      " [ 29  21 149 327 115 510  57 136  27  24]\n",
      " [ 20  23 135 177 181  90 652  47  13  31]\n",
      " [ 35  22  75  56 118  84  26 518   9  37]\n",
      " [290  91  63  41  48  15  20  19 662 104]\n",
      " [ 80 233  33  61  23  36  35  87  98 585]]\n"
     ]
    }
   ],
   "source": [
    "print(confusion_matrix(pred, y_test))"
   ]
  },
  {
   "cell_type": "markdown",
   "metadata": {},
   "source": [
    "## 5. Results\n",
    "### The best NN architecture\n",
    "\n",
    "\n",
    "### Learning rate strategy and batch size\n",
    "\n",
    "\n",
    "### Data augmentations\n",
    "\n",
    "\n",
    "### The best model test accuracy\n",
    "\n"
   ]
  }
 ],
 "metadata": {
  "kernelspec": {
   "display_name": "Python 3",
   "language": "python",
   "name": "python3"
  },
  "language_info": {
   "codemirror_mode": {
    "name": "ipython",
    "version": 3
   },
   "file_extension": ".py",
   "mimetype": "text/x-python",
   "name": "python",
   "nbconvert_exporter": "python",
   "pygments_lexer": "ipython3",
   "version": "3.8.3"
  }
 },
 "nbformat": 4,
 "nbformat_minor": 2
}

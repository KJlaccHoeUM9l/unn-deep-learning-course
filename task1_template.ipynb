{
 "cells": [
  {
   "cell_type": "markdown",
   "metadata": {},
   "source": [
    "# MNIST classification with kNN classifier\n",
    "\n",
    "# Gladyshev Alexey"
   ]
  },
  {
   "cell_type": "markdown",
   "metadata": {},
   "source": [
    "## 1. Load MNIST dataset and prepare data"
   ]
  },
  {
   "cell_type": "code",
   "execution_count": 1,
   "metadata": {},
   "outputs": [],
   "source": [
    "import numpy as np\n",
    "import matplotlib.pyplot as plt\n",
    "import pandas as pd\n",
    "import os\n",
    "\n",
    "from sklearn.metrics import classification_report, confusion_matrix, accuracy_score\n",
    "from copy import deepcopy\n",
    "from tqdm import tqdm"
   ]
  },
  {
   "cell_type": "code",
   "execution_count": 2,
   "metadata": {},
   "outputs": [],
   "source": [
    "data_path_prefix = '../Datasets/MNIST'"
   ]
  },
  {
   "cell_type": "code",
   "execution_count": 3,
   "metadata": {},
   "outputs": [],
   "source": [
    "train_data = pd.read_csv(os.path.join(data_path_prefix, 'mnist_train.csv'))\n",
    "test_data  = pd.read_csv(os.path.join(data_path_prefix, 'mnist_test.csv'))"
   ]
  },
  {
   "cell_type": "code",
   "execution_count": 4,
   "metadata": {},
   "outputs": [
    {
     "data": {
      "text/html": [
       "<div>\n",
       "<style scoped>\n",
       "    .dataframe tbody tr th:only-of-type {\n",
       "        vertical-align: middle;\n",
       "    }\n",
       "\n",
       "    .dataframe tbody tr th {\n",
       "        vertical-align: top;\n",
       "    }\n",
       "\n",
       "    .dataframe thead th {\n",
       "        text-align: right;\n",
       "    }\n",
       "</style>\n",
       "<table border=\"1\" class=\"dataframe\">\n",
       "  <thead>\n",
       "    <tr style=\"text-align: right;\">\n",
       "      <th></th>\n",
       "      <th>label</th>\n",
       "      <th>1x1</th>\n",
       "      <th>1x2</th>\n",
       "      <th>1x3</th>\n",
       "      <th>1x4</th>\n",
       "      <th>1x5</th>\n",
       "      <th>1x6</th>\n",
       "      <th>1x7</th>\n",
       "      <th>1x8</th>\n",
       "      <th>1x9</th>\n",
       "      <th>...</th>\n",
       "      <th>28x19</th>\n",
       "      <th>28x20</th>\n",
       "      <th>28x21</th>\n",
       "      <th>28x22</th>\n",
       "      <th>28x23</th>\n",
       "      <th>28x24</th>\n",
       "      <th>28x25</th>\n",
       "      <th>28x26</th>\n",
       "      <th>28x27</th>\n",
       "      <th>28x28</th>\n",
       "    </tr>\n",
       "  </thead>\n",
       "  <tbody>\n",
       "    <tr>\n",
       "      <th>0</th>\n",
       "      <td>7</td>\n",
       "      <td>0</td>\n",
       "      <td>0</td>\n",
       "      <td>0</td>\n",
       "      <td>0</td>\n",
       "      <td>0</td>\n",
       "      <td>0</td>\n",
       "      <td>0</td>\n",
       "      <td>0</td>\n",
       "      <td>0</td>\n",
       "      <td>...</td>\n",
       "      <td>0</td>\n",
       "      <td>0</td>\n",
       "      <td>0</td>\n",
       "      <td>0</td>\n",
       "      <td>0</td>\n",
       "      <td>0</td>\n",
       "      <td>0</td>\n",
       "      <td>0</td>\n",
       "      <td>0</td>\n",
       "      <td>0</td>\n",
       "    </tr>\n",
       "    <tr>\n",
       "      <th>1</th>\n",
       "      <td>2</td>\n",
       "      <td>0</td>\n",
       "      <td>0</td>\n",
       "      <td>0</td>\n",
       "      <td>0</td>\n",
       "      <td>0</td>\n",
       "      <td>0</td>\n",
       "      <td>0</td>\n",
       "      <td>0</td>\n",
       "      <td>0</td>\n",
       "      <td>...</td>\n",
       "      <td>0</td>\n",
       "      <td>0</td>\n",
       "      <td>0</td>\n",
       "      <td>0</td>\n",
       "      <td>0</td>\n",
       "      <td>0</td>\n",
       "      <td>0</td>\n",
       "      <td>0</td>\n",
       "      <td>0</td>\n",
       "      <td>0</td>\n",
       "    </tr>\n",
       "    <tr>\n",
       "      <th>2</th>\n",
       "      <td>1</td>\n",
       "      <td>0</td>\n",
       "      <td>0</td>\n",
       "      <td>0</td>\n",
       "      <td>0</td>\n",
       "      <td>0</td>\n",
       "      <td>0</td>\n",
       "      <td>0</td>\n",
       "      <td>0</td>\n",
       "      <td>0</td>\n",
       "      <td>...</td>\n",
       "      <td>0</td>\n",
       "      <td>0</td>\n",
       "      <td>0</td>\n",
       "      <td>0</td>\n",
       "      <td>0</td>\n",
       "      <td>0</td>\n",
       "      <td>0</td>\n",
       "      <td>0</td>\n",
       "      <td>0</td>\n",
       "      <td>0</td>\n",
       "    </tr>\n",
       "    <tr>\n",
       "      <th>3</th>\n",
       "      <td>0</td>\n",
       "      <td>0</td>\n",
       "      <td>0</td>\n",
       "      <td>0</td>\n",
       "      <td>0</td>\n",
       "      <td>0</td>\n",
       "      <td>0</td>\n",
       "      <td>0</td>\n",
       "      <td>0</td>\n",
       "      <td>0</td>\n",
       "      <td>...</td>\n",
       "      <td>0</td>\n",
       "      <td>0</td>\n",
       "      <td>0</td>\n",
       "      <td>0</td>\n",
       "      <td>0</td>\n",
       "      <td>0</td>\n",
       "      <td>0</td>\n",
       "      <td>0</td>\n",
       "      <td>0</td>\n",
       "      <td>0</td>\n",
       "    </tr>\n",
       "    <tr>\n",
       "      <th>4</th>\n",
       "      <td>4</td>\n",
       "      <td>0</td>\n",
       "      <td>0</td>\n",
       "      <td>0</td>\n",
       "      <td>0</td>\n",
       "      <td>0</td>\n",
       "      <td>0</td>\n",
       "      <td>0</td>\n",
       "      <td>0</td>\n",
       "      <td>0</td>\n",
       "      <td>...</td>\n",
       "      <td>0</td>\n",
       "      <td>0</td>\n",
       "      <td>0</td>\n",
       "      <td>0</td>\n",
       "      <td>0</td>\n",
       "      <td>0</td>\n",
       "      <td>0</td>\n",
       "      <td>0</td>\n",
       "      <td>0</td>\n",
       "      <td>0</td>\n",
       "    </tr>\n",
       "  </tbody>\n",
       "</table>\n",
       "<p>5 rows × 785 columns</p>\n",
       "</div>"
      ],
      "text/plain": [
       "   label  1x1  1x2  1x3  1x4  1x5  1x6  1x7  1x8  1x9  ...  28x19  28x20  \\\n",
       "0      7    0    0    0    0    0    0    0    0    0  ...      0      0   \n",
       "1      2    0    0    0    0    0    0    0    0    0  ...      0      0   \n",
       "2      1    0    0    0    0    0    0    0    0    0  ...      0      0   \n",
       "3      0    0    0    0    0    0    0    0    0    0  ...      0      0   \n",
       "4      4    0    0    0    0    0    0    0    0    0  ...      0      0   \n",
       "\n",
       "   28x21  28x22  28x23  28x24  28x25  28x26  28x27  28x28  \n",
       "0      0      0      0      0      0      0      0      0  \n",
       "1      0      0      0      0      0      0      0      0  \n",
       "2      0      0      0      0      0      0      0      0  \n",
       "3      0      0      0      0      0      0      0      0  \n",
       "4      0      0      0      0      0      0      0      0  \n",
       "\n",
       "[5 rows x 785 columns]"
      ]
     },
     "execution_count": 4,
     "metadata": {},
     "output_type": "execute_result"
    }
   ],
   "source": [
    "test_data.head()"
   ]
  },
  {
   "cell_type": "code",
   "execution_count": 5,
   "metadata": {},
   "outputs": [
    {
     "name": "stdout",
     "output_type": "stream",
     "text": [
      "(60000, 784)\n",
      "(60000,)\n"
     ]
    }
   ],
   "source": [
    "X_train = train_data.drop(('label'), axis = 1)\n",
    "y_train = train_data['label']\n",
    "print(X_train.shape)\n",
    "print(y_train.shape)"
   ]
  },
  {
   "cell_type": "code",
   "execution_count": 6,
   "metadata": {},
   "outputs": [
    {
     "name": "stdout",
     "output_type": "stream",
     "text": [
      "(10000, 784)\n",
      "(10000,)\n"
     ]
    }
   ],
   "source": [
    "X_test = test_data.drop(('label'), axis = 1)\n",
    "y_test = test_data['label']\n",
    "print(X_test.shape)\n",
    "print(y_test.shape)"
   ]
  },
  {
   "cell_type": "code",
   "execution_count": 7,
   "metadata": {},
   "outputs": [],
   "source": [
    "X_train = X_train.to_numpy()\n",
    "y_train = y_train.to_numpy()\n",
    "\n",
    "X_test = X_test.to_numpy()\n",
    "y_test = y_test.to_numpy()"
   ]
  },
  {
   "cell_type": "markdown",
   "metadata": {},
   "source": [
    "## 2. kNN classifier implementation"
   ]
  },
  {
   "cell_type": "code",
   "execution_count": 8,
   "metadata": {},
   "outputs": [],
   "source": [
    "class KNeighborsClassifier:\n",
    "    \n",
    "    def __init__(self, distance_func, k=5):\n",
    "        self.k = k\n",
    "        self.distance_func = distance_func\n",
    "        \n",
    "    def fit(self, X, y):\n",
    "        self.__X = X\n",
    "        self.__y = y\n",
    "        \n",
    "        \n",
    "    def predict_proba(self, X):\n",
    "        result = []\n",
    "        nearest_neighbors_labels = self.__get_nearest_neighbors_labels(X)\n",
    "        for sample_labels in nearest_neighbors_labels:\n",
    "            frequency = np.zeros(10)\n",
    "            for label in sample_labels:\n",
    "                frequency[label] += 1\n",
    "            result.append(frequency / self.k)\n",
    "        return np.array(result)\n",
    "      \n",
    "    def predict(self, X):        \n",
    "        nearest_neighbors_labels = self.__get_nearest_neighbors_labels(X)\n",
    "        return np.array([np.argmax(np.bincount(labels)) for labels in nearest_neighbors_labels])\n",
    "    \n",
    "    def __get_nearest_neighbors_labels(self, X):\n",
    "        distances = np.empty((len(X), len(self.__X)), dtype=np.ndarray)\n",
    "        for test_sample_ind, test_sample in enumerate(tqdm(X)):\n",
    "            for train_object_ind, train_object in enumerate(self.__X):\n",
    "                distances[test_sample_ind, train_object_ind] = (self.distance_func(test_sample, train_object),\n",
    "                                                                self.__y[train_object_ind])\n",
    "                \n",
    "        sorted_nearest_distances = \\\n",
    "            np.array([np.sort(current_distances)[0:self.k] for current_distances in distances])\n",
    "        \n",
    "        nearest_neighbors_labels = \\\n",
    "            np.array([np.array([label for _, label in nearest_distances]) for nearest_distances in sorted_nearest_distances])\n",
    "        \n",
    "        return nearest_neighbors_labels\n",
    "        "
   ]
  },
  {
   "cell_type": "markdown",
   "metadata": {},
   "source": [
    "## 3. Check correctness (compare with exist implementations)"
   ]
  },
  {
   "cell_type": "code",
   "execution_count": 9,
   "metadata": {},
   "outputs": [],
   "source": [
    "def euclidean_distance(lhs, rhs):\n",
    "    return np.sqrt(np.sum((lhs - rhs)**2))"
   ]
  },
  {
   "cell_type": "markdown",
   "metadata": {},
   "source": [
    "## 3.1. Собственная реализация"
   ]
  },
  {
   "cell_type": "code",
   "execution_count": 10,
   "metadata": {},
   "outputs": [
    {
     "name": "stderr",
     "output_type": "stream",
     "text": [
      "100%|██████████| 100/100 [00:01<00:00, 58.03it/s]\n"
     ]
    },
    {
     "name": "stdout",
     "output_type": "stream",
     "text": [
      "[[ 8  0  0  0  0  0  0  0  0  0]\n",
      " [ 0 14  0  0  0  0  0  0  0  0]\n",
      " [ 0  1  6  0  1  0  0  0  0  0]\n",
      " [ 0  1  1  8  0  0  0  0  0  1]\n",
      " [ 0  0  0  0 11  0  0  0  0  3]\n",
      " [ 0  1  0  1  1  4  0  0  0  0]\n",
      " [ 1  0  0  0  1  0  8  0  0  0]\n",
      " [ 0  0  0  0  0  0  0 14  0  1]\n",
      " [ 0  0  0  0  0  0  0  0  2  0]\n",
      " [ 0  0  0  0  0  0  0  2  0  9]]\n",
      "              precision    recall  f1-score   support\n",
      "\n",
      "           0       0.89      1.00      0.94         8\n",
      "           1       0.82      1.00      0.90        14\n",
      "           2       0.86      0.75      0.80         8\n",
      "           3       0.89      0.73      0.80        11\n",
      "           4       0.79      0.79      0.79        14\n",
      "           5       1.00      0.57      0.73         7\n",
      "           6       1.00      0.80      0.89        10\n",
      "           7       0.88      0.93      0.90        15\n",
      "           8       1.00      1.00      1.00         2\n",
      "           9       0.64      0.82      0.72        11\n",
      "\n",
      "    accuracy                           0.84       100\n",
      "   macro avg       0.88      0.84      0.85       100\n",
      "weighted avg       0.85      0.84      0.84       100\n",
      "\n"
     ]
    }
   ],
   "source": [
    "knn = KNeighborsClassifier(euclidean_distance, k=5)\n",
    "knn.fit(X_train, y_train)\n",
    "y_pred = knn.predict(X_test)\n",
    "\n",
    "print(confusion_matrix(y_test, y_pred))\n",
    "print(classification_report(y_test, y_pred))"
   ]
  },
  {
   "cell_type": "code",
   "execution_count": 11,
   "metadata": {},
   "outputs": [
    {
     "name": "stdout",
     "output_type": "stream",
     "text": [
      "[[0.  0.  0.  0.  0.  0.  0.  1.  0.  0. ]\n",
      " [0.  0.  0.6 0.2 0.  0.  0.  0.  0.2 0. ]\n",
      " [0.  1.  0.  0.  0.  0.  0.  0.  0.  0. ]\n",
      " [1.  0.  0.  0.  0.  0.  0.  0.  0.  0. ]\n",
      " [0.  0.  0.  0.  0.6 0.  0.  0.2 0.  0.2]\n",
      " [0.  1.  0.  0.  0.  0.  0.  0.  0.  0. ]\n",
      " [0.  0.  0.  0.  0.4 0.  0.  0.  0.  0.6]]\n"
     ]
    }
   ],
   "source": [
    "print(knn.predict_proba(X_test)[:7])"
   ]
  },
  {
   "cell_type": "markdown",
   "metadata": {},
   "source": [
    "## 3.2. Существующая реализация"
   ]
  },
  {
   "cell_type": "code",
   "execution_count": 12,
   "metadata": {},
   "outputs": [
    {
     "name": "stdout",
     "output_type": "stream",
     "text": [
      "[[ 8  0  0  0  0  0  0  0  0  0]\n",
      " [ 0 14  0  0  0  0  0  0  0  0]\n",
      " [ 0  1  6  0  1  0  0  0  0  0]\n",
      " [ 0  1  1  8  0  0  0  0  0  1]\n",
      " [ 0  0  0  0 11  0  0  0  0  3]\n",
      " [ 0  1  0  1  1  4  0  0  0  0]\n",
      " [ 1  0  0  0  1  0  8  0  0  0]\n",
      " [ 0  0  0  0  0  0  0 14  0  1]\n",
      " [ 0  0  0  0  0  0  0  0  2  0]\n",
      " [ 0  0  0  0  0  0  0  2  0  9]]\n",
      "              precision    recall  f1-score   support\n",
      "\n",
      "           0       0.89      1.00      0.94         8\n",
      "           1       0.82      1.00      0.90        14\n",
      "           2       0.86      0.75      0.80         8\n",
      "           3       0.89      0.73      0.80        11\n",
      "           4       0.79      0.79      0.79        14\n",
      "           5       1.00      0.57      0.73         7\n",
      "           6       1.00      0.80      0.89        10\n",
      "           7       0.88      0.93      0.90        15\n",
      "           8       1.00      1.00      1.00         2\n",
      "           9       0.64      0.82      0.72        11\n",
      "\n",
      "    accuracy                           0.84       100\n",
      "   macro avg       0.88      0.84      0.85       100\n",
      "weighted avg       0.85      0.84      0.84       100\n",
      "\n"
     ]
    }
   ],
   "source": [
    "from sklearn import neighbors\n",
    "\n",
    "classifier = neighbors.KNeighborsClassifier(n_neighbors=5)\n",
    "classifier.fit(X_train, y_train)\n",
    "y_pred_sklearn = classifier.predict(X_test)\n",
    "\n",
    "print(confusion_matrix(y_test, y_pred_sklearn))\n",
    "print(classification_report(y_test, y_pred_sklearn))"
   ]
  },
  {
   "cell_type": "code",
   "execution_count": 13,
   "metadata": {},
   "outputs": [
    {
     "name": "stdout",
     "output_type": "stream",
     "text": [
      "[[0.  0.  0.  0.  0.  0.  0.  1.  0.  0. ]\n",
      " [0.  0.  0.6 0.2 0.  0.  0.  0.  0.2 0. ]\n",
      " [0.  1.  0.  0.  0.  0.  0.  0.  0.  0. ]\n",
      " [1.  0.  0.  0.  0.  0.  0.  0.  0.  0. ]\n",
      " [0.  0.  0.  0.  0.6 0.  0.  0.2 0.  0.2]\n",
      " [0.  1.  0.  0.  0.  0.  0.  0.  0.  0. ]\n",
      " [0.  0.  0.  0.  0.4 0.  0.  0.  0.  0.6]]\n"
     ]
    }
   ],
   "source": [
    "print(classifier.predict_proba(X_test)[:7])"
   ]
  },
  {
   "cell_type": "markdown",
   "metadata": {},
   "source": [
    "## 4. Define features and distance functions"
   ]
  },
  {
   "cell_type": "code",
   "execution_count": 9,
   "metadata": {},
   "outputs": [],
   "source": [
    "from skimage.feature import hog"
   ]
  },
  {
   "cell_type": "code",
   "execution_count": 10,
   "metadata": {},
   "outputs": [],
   "source": [
    "def get_hog_image(image):\n",
    "    __image = image\n",
    "    __image_size = int(np.sqrt(len(__image)))\n",
    "    __image = __image.reshape(__image_size, __image_size)\n",
    "    _, __image = hog(__image, visualize=True, multichannel=False)\n",
    "    __image = __image.flatten()\n",
    "    return __image\n",
    "\n",
    "def get_histogram(image):\n",
    "    hist, _ = np.histogram(image, bins=256)\n",
    "    return hist"
   ]
  },
  {
   "cell_type": "code",
   "execution_count": 11,
   "metadata": {},
   "outputs": [],
   "source": [
    "def manhattan_distance(lhs, rhs):\n",
    "    return np.sum(np.abs(lhs - rhs))"
   ]
  },
  {
   "cell_type": "code",
   "execution_count": 12,
   "metadata": {},
   "outputs": [],
   "source": [
    "def hog_image_euclidean_distance(lhs, rhs):\n",
    "    return euclidean_distance(get_hog_image(lhs), get_hog_image(rhs))"
   ]
  },
  {
   "cell_type": "code",
   "execution_count": 13,
   "metadata": {},
   "outputs": [],
   "source": [
    "def hog_image_manhattan_distance(lhs, rhs):\n",
    "    return manhattan_distance(get_hog_image(lhs), get_hog_image(rhs))"
   ]
  },
  {
   "cell_type": "code",
   "execution_count": 14,
   "metadata": {},
   "outputs": [],
   "source": [
    "def hist_euclidean_distance(lhs, rhs):\n",
    "    return euclidean_distance(get_histogram(lhs), get_histogram(rhs))"
   ]
  },
  {
   "cell_type": "code",
   "execution_count": 15,
   "metadata": {},
   "outputs": [],
   "source": [
    "def hist_manhattan_distance(lhs, rhs):\n",
    "    return manhattan_distance(get_histogram(lhs), get_histogram(rhs))"
   ]
  },
  {
   "cell_type": "markdown",
   "metadata": {},
   "source": [
    "## 5. Find hyper-parameters"
   ]
  },
  {
   "cell_type": "code",
   "execution_count": 21,
   "metadata": {},
   "outputs": [],
   "source": [
    "K = [3, 5, 7]\n",
    "dist_functions_and_features = [('euclidean', euclidean_distance),\n",
    "                               ('manhattan', manhattan_distance),\n",
    "                               ('hog_image_euclidean_distance', hog_image_euclidean_distance),\n",
    "                               ('hog_image_manhattan_distance', hog_image_manhattan_distance),\n",
    "                               ('hist_euclidean_distance', hist_euclidean_distance),\n",
    "                               ('hist_manhattan_distance', hist_manhattan_distance)]"
   ]
  },
  {
   "cell_type": "code",
   "execution_count": 22,
   "metadata": {},
   "outputs": [],
   "source": [
    "def find_best(distance_functions, K):\n",
    "    result_list = []\n",
    "    for distance_name, distance_func in distance_functions:\n",
    "        for k in K:\n",
    "            knn = KNeighborsClassifier(distance_func, k=k)\n",
    "            knn.fit(X_train, y_train)\n",
    "            y_pred = knn.predict(X_test)\n",
    "            \n",
    "            result = accuracy_score(y_test, y_pred)\n",
    "            result_list.append((result, [distance_name, k]))\n",
    "            \n",
    "    return {k: v for k, v in sorted(result_list, key=lambda item: item[0], reverse=True)}"
   ]
  },
  {
   "cell_type": "code",
   "execution_count": 23,
   "metadata": {},
   "outputs": [
    {
     "name": "stdout",
     "output_type": "stream",
     "text": [
      "(0.92, ['hog_image_manhattan_distance', 7])\n",
      "(0.91, ['hog_image_manhattan_distance', 3])\n",
      "(0.9, ['hog_image_euclidean_distance', 5])\n",
      "(0.86, ['hog_image_euclidean_distance', 3])\n",
      "(0.84, ['euclidean', 5])\n",
      "(0.83, ['euclidean', 3])\n",
      "(0.82, ['manhattan', 3])\n",
      "(0.81, ['euclidean', 7])\n",
      "(0.8, ['manhattan', 5])\n",
      "(0.79, ['manhattan', 7])\n",
      "(0.37, ['hist_euclidean_distance', 5])\n",
      "(0.32, ['hist_manhattan_distance', 5])\n",
      "(0.31, ['hist_manhattan_distance', 7])\n",
      "(0.26, ['hist_euclidean_distance', 3])\n",
      "(0.24, ['hist_manhattan_distance', 3])\n"
     ]
    }
   ],
   "source": [
    "grid_result = find_best(dist_functions_and_features, K)\n",
    "for item in grid_result.items():\n",
    "    print(item)"
   ]
  },
  {
   "cell_type": "markdown",
   "metadata": {},
   "source": [
    "## 5.1 Full dataset\n",
    "\n",
    "### 5.1.1 Convert data"
   ]
  },
  {
   "cell_type": "code",
   "execution_count": 16,
   "metadata": {},
   "outputs": [
    {
     "name": "stderr",
     "output_type": "stream",
     "text": [
      "100%|██████████| 60000/60000 [01:16<00:00, 782.52it/s]\n"
     ]
    }
   ],
   "source": [
    "for i in tqdm(range(len(X_train))):\n",
    "    X_train[i] = get_hog_image(X_train[i])"
   ]
  },
  {
   "cell_type": "code",
   "execution_count": 18,
   "metadata": {},
   "outputs": [
    {
     "name": "stderr",
     "output_type": "stream",
     "text": [
      "100%|██████████| 10000/10000 [00:12<00:00, 781.40it/s]\n"
     ]
    }
   ],
   "source": [
    "for j in tqdm(range(len(X_test))):\n",
    "    X_test[j] = get_hog_image(X_test[j])"
   ]
  },
  {
   "cell_type": "markdown",
   "metadata": {},
   "source": [
    "### 5.1.2 Train data"
   ]
  },
  {
   "cell_type": "code",
   "execution_count": null,
   "metadata": {},
   "outputs": [
    {
     "name": "stderr",
     "output_type": "stream",
     "text": [
      "  4%|▍         | 392/10000 [03:33<1:25:22,  1.88it/s]"
     ]
    }
   ],
   "source": [
    "knn = KNeighborsClassifier(manhattan_distance, k=7)\n",
    "knn.fit(X_train, y_train)\n",
    "y_pred = knn.predict(X_test)\n",
    "            \n",
    "print(accuracy_score(y_test, y_pred))"
   ]
  },
  {
   "cell_type": "markdown",
   "metadata": {},
   "source": [
    "## 6. Results\n",
    "### The best model parameters:\n",
    "* k: 7\n",
    "* Distance function: manhattan\n",
    "* Features: HOG\n",
    "\n",
    "### The best model test accuracy: 0.92\n",
    "\n",
    "###  Why such model parameters are the best?\n",
    "\n",
    "От противного:\n",
    "* Гистограммы цветов для этой задачи не имеют никаких преимуществ, т.к. размеры и цвет цифр примерно одинаковые для всех сэмплов (изначально пробовал корреляцию и кросс-корреляцию, но там только хуже было), поэтому явного отделения классов не будет.\n",
    "* Евклидово расстояние и расстояние Манхеттена имеют не плохие результаты, потому что здесь хорошие данные, все цифры плюс минус в центре и одинаковых размеров (нет сдвигов и масштабов), поэтому явное сравнение пикселей дает такие результаты.\n",
    "* Гистограммы направленных градиентов выигрывают, потому что в некотором смысле данный дескриптор оценивает форму объекта, что положительно сказывается на результатах обучения."
   ]
  },
  {
   "cell_type": "code",
   "execution_count": null,
   "metadata": {},
   "outputs": [],
   "source": []
  }
 ],
 "metadata": {
  "kernelspec": {
   "display_name": "Python 3",
   "language": "python",
   "name": "python3"
  },
  "language_info": {
   "codemirror_mode": {
    "name": "ipython",
    "version": 3
   },
   "file_extension": ".py",
   "mimetype": "text/x-python",
   "name": "python",
   "nbconvert_exporter": "python",
   "pygments_lexer": "ipython3",
   "version": "3.8.3"
  }
 },
 "nbformat": 4,
 "nbformat_minor": 2
}
